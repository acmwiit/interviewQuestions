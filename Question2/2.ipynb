{
 "cells": [
  {
   "cell_type": "code",
   "execution_count": 35,
   "metadata": {
    "collapsed": false
   },
   "outputs": [
    {
     "name": "stdout",
     "output_type": "stream",
     "text": [
      "sllist([a, b, d, e, f, None])\n"
     ]
    }
   ],
   "source": [
    "from llist import sllist\n",
    "\n",
    "lst = sllist(['a','b','c','d','e','f'])\n",
    "\n",
    "node = lst.nodeat(2)\n",
    "\n",
    "def replace(node):\n",
    "    node.value = node.next.value\n",
    "    return node.next\n",
    "    \n",
    "while (node.next.next is not None):\n",
    "    node = replace(node)\n",
    "    \n",
    "node.value = node.next.value\n",
    "node.next.value = None\n",
    "\n",
    "print(lst)"
   ]
  }
 ],
 "metadata": {
  "kernelspec": {
   "display_name": "Python 3",
   "language": "python",
   "name": "python3"
  },
  "language_info": {
   "codemirror_mode": {
    "name": "ipython",
    "version": 3
   },
   "file_extension": ".py",
   "mimetype": "text/x-python",
   "name": "python",
   "nbconvert_exporter": "python",
   "pygments_lexer": "ipython3",
   "version": "3.5.1"
  }
 },
 "nbformat": 4,
 "nbformat_minor": 0
}
